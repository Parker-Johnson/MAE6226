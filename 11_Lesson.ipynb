{
 "cells": [
  {
   "cell_type": "code",
   "execution_count": 1,
   "metadata": {},
   "outputs": [],
   "source": [
    "#import libraries and such\n",
    "import os\n",
    "import numpy as np\n",
    "from scipy import integrate, linalg\n",
    "from matplotlib import pyplot as py\n",
    "\n",
    "%matplotlib inline"
   ]
  },
  {
   "cell_type": "code",
   "execution_count": 2,
   "metadata": {},
   "outputs": [],
   "source": [
    "#load geometry from data file\n",
    "naca_filepath = os.path.join('naca0012.dat')\n",
    "with open(naca_filepath, 'r') as infile:\n",
    "    x, y = np.loadtxt(infile, dtype=float, unpack=True)"
   ]
  },
  {
   "cell_type": "code",
   "execution_count": 3,
   "metadata": {},
   "outputs": [
    {
     "data": {
      "image/png": "[encoded data removed]",
      "text/plain": [
       "<Figure size 720x720 with 1 Axes>"
      ]
     },
     "metadata": {},
     "output_type": "display_data"
    }
   ],
   "source": [
    "#plot airfoil geometry\n",
    "width = 10\n",
    "py.figure(figsize=(width, width))\n",
    "py.grid()\n",
    "py.xlabel('x')\n",
    "py.ylabel('y')\n",
    "py.plot(x, y)\n",
    "py.axis('scaled', adjustable='box')\n",
    "py.xlim(-0.1, 1.1)\n",
    "py.ylim(-0.1, 0.1);"
   ]
  },
  {
   "cell_type": "code",
   "execution_count": 4,
   "metadata": {},
   "outputs": [],
   "source": [
    "#now, we create our class Panel that stores all information\n",
    "#about one panel.\n",
    "\n",
    "class Panel:\n",
    "    \n",
    "    def __init__(self, xa, ya, xb, yb):\n",
    "        \n",
    "        self.xa, self.ya = xa, ya # panel starting-point\n",
    "        self.xb, self.yb = xb, yb # panel ending point\n",
    "        \n",
    "        self.xc, self.yc = (xa + xb) / 2, (ya + yb) / 2 #panel center\n",
    "        self.length = np.sqrt((xb - xa)**2 + (yb - ya)**2) #panel length\n",
    "        \n",
    "        # orientation of panel\n",
    "        if xb - xa <= 0.0:\n",
    "            self.beta = np.arccos((yb - ya) / self.length)\n",
    "        elif xb - xa > 0.0:\n",
    "            self.beta = np.pi + np.arccos(-(yb - ya) / self.length)\n",
    "            \n",
    "        # panel location\n",
    "        if self.beta <= np.pi:\n",
    "            self.loc = 'upper' #upper surface\n",
    "        else:\n",
    "            self.loc = 'lower' #lower surface\n",
    "            \n",
    "        self.sigma = 0.0 #source strength\n",
    "        self.vt = 0.0 #tangent velocity\n",
    "        self.cp = 0.0 #pressure coeff"
   ]
  },
  {
   "cell_type": "code",
   "execution_count": 5,
   "metadata": {},
   "outputs": [],
   "source": [
    "def define_panels(x, y, N=40):\n",
    "    \n",
    "    R = (x.max() - x.min()) / 2.0 #circle radius\n",
    "    x_center = (x.max() + x.min()) / 2.0 # x-coord of circle center\n",
    "    \n",
    "    theta = np.linspace(0.0, 2.0 * np.pi, N + 1) #array of angles\n",
    "    x_circle = x_center + R * np.cos(theta) #x-coord of circle\n",
    "    \n",
    "    x_ends = np.copy(x_circle) #x-coord of panels end points\n",
    "    y_ends = np.empty_like(x_ends) #y-coord of panels end-points\n",
    "    \n",
    "    # extend coordinates to consider closed surface\n",
    "    x, y = np.append(x, x[0]), np.append(y, y[0])\n",
    "    \n",
    "    #compute y-coord of end-points by projections\n",
    "    I = 0\n",
    "    for i in range(N):\n",
    "        while I < len(x) - 1:\n",
    "            if (x[I] <= x_ends[i] <= x[I+1]) or (x[I+1] <= x_ends[i] <= x[I]):\n",
    "                break\n",
    "            else:\n",
    "                I += 1\n",
    "        a = (y[I + 1] - y[I]) / (x[I + 1] - x[I])\n",
    "        b = y[I + 1] - a * x[I + 1]\n",
    "        y_ends[i] = a * x_ends[i] + b\n",
    "    y_ends[N] = y_ends[0]\n",
    "    \n",
    "    panels = np.empty(N, dtype = object)\n",
    "    for i in range(N):\n",
    "        panels[i] = Panel(x_ends[i], y_ends[i], x_ends[i + 1], y_ends[i +1])\n",
    "        \n",
    "    return panels"
   ]
  },
  {
   "cell_type": "code",
   "execution_count": 6,
   "metadata": {},
   "outputs": [],
   "source": [
    "# discretize geometry into panels\n",
    "panels = define_panels(x, y, N = 40)"
   ]
  },
  {
   "cell_type": "code",
   "execution_count": 7,
   "metadata": {},
   "outputs": [
    {
     "data": {
      "image/png": "[encoded data removed]",
      "text/plain": [
       "<Figure size 720x720 with 1 Axes>"
      ]
     },
     "metadata": {},
     "output_type": "display_data"
    }
   ],
   "source": [
    "# plot discretized geometry\n",
    "width = 10\n",
    "py.figure(figsize=(width, width))\n",
    "py.grid()\n",
    "py.plot(x, y)\n",
    "py.plot(np.append([panel.xa for panel in panels], panels[0].xa),\n",
    "        np.append([panel.ya for panel in panels], panels[0].ya),\n",
    "       color='#CD2305', marker='o')\n",
    "py.axis('scaled', adjustable='box')\n",
    "py.xlim(-0.1, 1.1)\n",
    "py.ylim(-0.1, 0.1);"
   ]
  },
  {
   "cell_type": "code",
   "execution_count": 8,
   "metadata": {},
   "outputs": [],
   "source": [
    "# now we create our freestream class to pass to other functions\n",
    "# later on\n",
    "class Freestream:\n",
    "    \n",
    "    def __init__(self, u_inf=1.0, alpha=0.0):\n",
    "        \n",
    "        self.u_inf = u_inf\n",
    "        self.alpha = np.radians(alpha) #degrees to radians"
   ]
  },
  {
   "cell_type": "code",
   "execution_count": 9,
   "metadata": {},
   "outputs": [],
   "source": [
    "# define freestream conditions\n",
    "freestream = Freestream(u_inf=1.0, alpha = 4.0)"
   ]
  },
  {
   "cell_type": "code",
   "execution_count": 10,
   "metadata": {},
   "outputs": [],
   "source": [
    "#now, we can build the linear system to solve for our strength\n",
    "# and circulation values\n",
    "\n",
    "def integral(x, y, panel, dxdk, dydk):\n",
    "    \n",
    "    def integrand(s):\n",
    "        return(((x - (panel.xa - np.sin(panel.beta) * s)) * dxdk + \n",
    "                (y - (panel.ya + np.cos(panel.beta) * s)) * dydk) /\n",
    "               ((x - (panel.xa - np.sin(panel.beta) * s))**2 +\n",
    "                (y - (panel.ya + np.cos(panel.beta) * s))**2) )\n",
    "    return integrate.quad(integrand, 0.0, panel.length)[0]\n",
    "    "
   ]
  },
  {
   "cell_type": "code",
   "execution_count": 11,
   "metadata": {},
   "outputs": [],
   "source": [
    "# now we need a function to build the source matric:\n",
    "# the affect of each source on the normal velocity of each panel\n",
    "\n",
    "def source_contribution_normal(panels):\n",
    "    \n",
    "    A = np.empty((panels.size, panels.size), dtype=float)\n",
    "    # source contribution on a panel from itself\n",
    "    np.fill_diagonal(A, 0.5)\n",
    "    # source contribution on a panel from others\n",
    "    for i, panel_i in enumerate(panels):\n",
    "        for j, panel_j in enumerate(panels):\n",
    "            if i != j:\n",
    "                A[i, j] = 0.5 / np.pi * integral(panel_i.xc, panel_i.yc,\n",
    "                                                 panel_j,\n",
    "                                                 np.cos(panel_i.beta),\n",
    "                                                 np.sin(panel_i.beta))\n",
    "    return A"
   ]
  },
  {
   "cell_type": "code",
   "execution_count": 12,
   "metadata": {},
   "outputs": [],
   "source": [
    "# then, we define a function to build the vortex matrix\n",
    "def vortex_contribution_normal(panels):\n",
    "    \n",
    "    A = np.empty((panels.size, panels.size), dtype=float)\n",
    "    #vortex contribution on a panel from itself\n",
    "    np.fill_diagonal(A, 0.0)\n",
    "    #vortex contribution on a panel from others\n",
    "    for i, panel_i in enumerate(panels):\n",
    "        for j, panel_j in enumerate(panels):\n",
    "            if i != j:\n",
    "                A[i, j] = -0.5 / np.pi * integral(panel_i.xc, panel_i.yc,\n",
    "                                                  panel_j,\n",
    "                                                  np.sin(panel_i.beta),\n",
    "                                                  -np.cos(panel_i.beta))\n",
    "    return A"
   ]
  },
  {
   "cell_type": "code",
   "execution_count": 13,
   "metadata": {},
   "outputs": [],
   "source": [
    "A_source = source_contribution_normal(panels)\n",
    "B_vortex = vortex_contribution_normal(panels)"
   ]
  },
  {
   "cell_type": "code",
   "execution_count": 14,
   "metadata": {},
   "outputs": [],
   "source": [
    "#now we have to satisfy the cutta condition\n",
    "def kutta_condition(A_source, B_vortex):\n",
    "    \n",
    "    b = np.empty(A_source.shape[0] + 1, dtype = float)\n",
    "    \n",
    "    b[:-1] = B_vortex[0, :] + B_vortex[-1, :]\n",
    "    \n",
    "    b[-1] = - np.sum(A_source[0, :] + A_source[-1, :])\n",
    "    return b"
   ]
  },
  {
   "cell_type": "code",
   "execution_count": 15,
   "metadata": {},
   "outputs": [],
   "source": [
    "# this next function will gather together the source matrix,\n",
    "# the vortex array, and the kutta array to build the matrix \n",
    "# needed to solve the linear system."
   ]
  },
  {
   "cell_type": "code",
   "execution_count": 16,
   "metadata": {},
   "outputs": [],
   "source": [
    "def build_singularity_matrix(A_source, B_vortex):\n",
    "    \n",
    "    A = np.empty((A_source.shape[0] + 1, A_source.shape[1] + 1), dtype=float)\n",
    "    #source contribution matrix\n",
    "    A[:-1, :-1] = A_source\n",
    "    # vortex contribution array\n",
    "    A[:-1, -1] = np.sum(B_vortex, axis=1)\n",
    "    #kutta condition array\n",
    "    A[-1, :] = kutta_condition(A_source, B_vortex)\n",
    "    return A"
   ]
  },
  {
   "cell_type": "code",
   "execution_count": 17,
   "metadata": {},
   "outputs": [],
   "source": [
    "#on the right hand side, we store everything that does\n",
    "# not depend on the unknown strengths\n",
    "def build_freestream_rhs(panels, freestream):\n",
    "    \n",
    "    b = np.empty(panels.size + 1, dtype=float)\n",
    "\n",
    "    for i, panel in enumerate(panels):\n",
    "        b[i] = -freestream.u_inf * np.cos(freestream.alpha - panel.beta)\n",
    "    b[-1] = -freestream.u_inf * (np.sin(freestream.alpha - panels[0].beta) +\n",
    "                                 np.sin(freestream.alpha - panels[-1].beta))\n",
    "    return b"
   ]
  },
  {
   "cell_type": "code",
   "execution_count": 18,
   "metadata": {},
   "outputs": [],
   "source": [
    "A = build_singularity_matrix(A_source, B_vortex)\n",
    "b = build_freestream_rhs(panels, freestream)"
   ]
  },
  {
   "cell_type": "code",
   "execution_count": 19,
   "metadata": {},
   "outputs": [],
   "source": [
    "# now we can solve the linear system using linalg solve\n",
    "# then we store the results in the attribute sigma of each\n",
    "# Panel object. \n",
    "# we also create a variable gamma to store value of constant\n",
    "# vortex strength"
   ]
  },
  {
   "cell_type": "code",
   "execution_count": 20,
   "metadata": {},
   "outputs": [],
   "source": [
    "strengths = np.linalg.solve(A, b)\n",
    "\n",
    "#store source strength on each panel\n",
    "for i, panel in enumerate(panels):\n",
    "    panel.sigma = strengths[i]\n",
    "    \n",
    "#store circulation density\n",
    "gamma = strengths[-1]"
   ]
  },
  {
   "cell_type": "code",
   "execution_count": 21,
   "metadata": {},
   "outputs": [],
   "source": [
    "# now to deal with the pressure coefficient, we compute the\n",
    "# tangential velocity at each panel center\n",
    "\n",
    "def compute_tangential_velocity(panels, freestream, gamma, A_source, B_vortex):\n",
    "    \n",
    "    A = np.empty((panels.size, panels.size + 1), dtype=float)\n",
    "    \n",
    "    A[:, :-1] = B_vortex\n",
    "    \n",
    "    A[:, -1] = -np.sum(A_source, axis=1)\n",
    "    \n",
    "    b = freestream.u_inf * np.sin([freestream.alpha - panel.beta for panel in panels])\n",
    "    \n",
    "    strengths = np.append([panel.sigma for panel in panels], gamma)\n",
    "    \n",
    "    tangential_velocities = np.dot(A, strengths) + b\n",
    "    \n",
    "    for i, panels in enumerate(panels):\n",
    "        panel.vt = tangential_velocities[i]"
   ]
  },
  {
   "cell_type": "code",
   "execution_count": 22,
   "metadata": {},
   "outputs": [],
   "source": [
    "# tangential velocity at each panel center.\n",
    "compute_tangential_velocity(panels, freestream, gamma, A_source, B_vortex)"
   ]
  },
  {
   "cell_type": "code",
   "execution_count": 23,
   "metadata": {},
   "outputs": [],
   "source": [
    "def compute_pressure_coefficient(panels, freestream):\n",
    "    for panel in panels:\n",
    "        panel.cp = 1.0 - (panel.vt / freestream.u_inf)**2"
   ]
  },
  {
   "cell_type": "code",
   "execution_count": 24,
   "metadata": {},
   "outputs": [],
   "source": [
    "compute_pressure_coefficient(panels, freestream)"
   ]
  },
  {
   "cell_type": "code",
   "execution_count": 25,
   "metadata": {},
   "outputs": [
    {
     "data": {
      "image/png": "[encoded data removed]",
      "text/plain": [
       "<Figure size 720x432 with 1 Axes>"
      ]
     },
     "metadata": {},
     "output_type": "display_data"
    }
   ],
   "source": [
    "#plot surface pressure coefficient\n",
    "py.figure(figsize=(10, 6))\n",
    "py.grid()\n",
    "py.plot([panel.xc for panel in panels if panel.loc == 'upper'],\n",
    "        [panel.cp for panel in panels if panel.loc == 'upper'],\n",
    "        label='upper surface', marker = 'o')\n",
    "py.plot([panel.xc for panel in panels if panel.loc == 'lower'],\n",
    "        [panel.cp for panel in panels if panel.loc == 'lower'],\n",
    "        label = 'lower surface', marker = 'o')\n",
    "py.legend(loc='best', prop={'size':16})\n",
    "py.xlim(-0.1, 1.1)\n",
    "py.ylim(1.0, -2.0)\n",
    "py.title('Number of panels: {}'.format(panels.size), fontsize=16);\n",
    "\n",
    "\n"
   ]
  },
  {
   "cell_type": "code",
   "execution_count": null,
   "metadata": {},
   "outputs": [],
   "source": []
  }
 ],
 "metadata": {
  "kernelspec": {
   "display_name": "Python 3",
   "language": "python",
   "name": "python3"
  },
  "language_info": {
   "codemirror_mode": {
    "name": "ipython",
    "version": 3
   },
   "file_extension": ".py",
   "mimetype": "text/x-python",
   "name": "python",
   "nbconvert_exporter": "python",
   "pygments_lexer": "ipython3",
   "version": "3.6.5"
  }
 },
 "nbformat": 4,
 "nbformat_minor": 2
}
